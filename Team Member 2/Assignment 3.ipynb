{
 "cells": [
  {
   "cell_type": "code",
   "execution_count": null,
   "id": "6caae4a2",
   "metadata": {},
   "outputs": [],
   "source": [
    "from tensorflow.keras.models import Sequential\n",
    "from tensorflow.keras.layers import Dense"
   ]
  },
  {
   "cell_type": "code",
   "execution_count": 2,
   "id": "9e544b88",
   "metadata": {},
   "outputs": [],
   "source": [
    "from tensorflow.keras.layers import Convolution2D\n",
    "from tensorflow.keras.layers import MaxPooling2D\n",
    "from tensorflow.keras.layers import Flatten"
   ]
  },
  {
   "cell_type": "code",
   "execution_count": 3,
   "id": "9f002c78",
   "metadata": {},
   "outputs": [],
   "source": [
    "from tensorflow.keras.preprocessing.image import ImageDataGenerator"
   ]
  },
  {
   "cell_type": "code",
   "execution_count": 4,
   "id": "30c41e3e",
   "metadata": {},
   "outputs": [],
   "source": [
    "train_datagen = ImageDataGenerator(rescale=1./255,shear_range=0.2,zoom_range=0.2,horizontal_flip=True,vertical_flip=True)"
   ]
  },
  {
   "cell_type": "code",
   "execution_count": 5,
   "id": "e79891cc",
   "metadata": {},
   "outputs": [],
   "source": [
    "test_datagen = ImageDataGenerator(rescale=1./255)"
   ]
  },
  {
   "cell_type": "code",
   "execution_count": 6,
   "id": "457c5512",
   "metadata": {},
   "outputs": [
    {
     "name": "stdout",
     "output_type": "stream",
     "text": [
      "Found 4317 images belonging to 5 classes.\n"
     ]
    }
   ],
   "source": [
    "x_train = train_datagen.flow_from_directory(r\"C:/Users/ADMIN/Download/Flowers-Dataset/training\",target_size=(64,64),batch_size=32,class_mode=\"categorical\")"
   ]
  },
  {
   "cell_type": "code",
   "execution_count": 7,
   "id": "fc70422c",
   "metadata": {},
   "outputs": [
    {
     "name": "stdout",
     "output_type": "stream",
     "text": [
      "Found 4317 images belonging to 5 classes.\n"
     ]
    }
   ],
   "source": [
    "x_test = test_datagen.flow_from_directory(r\"C:/Users/ADMIN/Download/Flowers-Dataset/testing\",target_size=(64,64),batch_size=32,class_mode = \"categorical\")"
   ]
  },
  {
   "cell_type": "code",
   "execution_count": 8,
   "id": "4da409a8",
   "metadata": {},
   "outputs": [
    {
     "data": {
      "text/plain": [
       "{'daisy': 0, 'dandelion': 1, 'rose': 2, 'sunflower': 3, 'tulip': 4}"
      ]
     },
     "execution_count": 8,
     "metadata": {},
     "output_type": "execute_result"
    }
   ],
   "source": [
    "x_train.class_indices"
   ]
  },
  {
   "cell_type": "code",
   "execution_count": 9,
   "id": "cf04f844",
   "metadata": {},
   "outputs": [],
   "source": [
    "model = Sequential()"
   ]
  },
  {
   "cell_type": "code",
   "execution_count": 10,
   "id": "13f7797e",
   "metadata": {},
   "outputs": [],
   "source": [
    "model.add(Convolution2D(32,(3,3),input_shape=(64,64,3),activation='relu'))"
   ]
  },
  {
   "cell_type": "code",
   "execution_count": 11,
   "id": "581dc27f",
   "metadata": {},
   "outputs": [],
   "source": [
    "model.add(MaxPooling2D(pool_size=(2,2)))"
   ]
  },
  {
   "cell_type": "code",
   "execution_count": 12,
   "id": "65d53415",
   "metadata": {},
   "outputs": [],
   "source": [
    "model.add(Flatten())"
   ]
  },
  {
   "cell_type": "code",
   "execution_count": 13,
   "id": "254a3a31",
   "metadata": {},
   "outputs": [],
   "source": [
    "model.add(Dense(units=300,kernel_initializer=\"random_uniform\",activation=\"relu\"))"
   ]
  },
  {
   "cell_type": "code",
   "execution_count": 14,
   "id": "06055db3",
   "metadata": {},
   "outputs": [],
   "source": [
    "model.add(Dense(units=200,kernel_initializer=\"random_uniform\",activation=\"relu\"))"
   ]
  },
  {
   "cell_type": "code",
   "execution_count": 15,
   "id": "0c601b22",
   "metadata": {},
   "outputs": [],
   "source": [
    "model.add(Dense(units=5,kernel_initializer=\"random_uniform\",activation=\"softmax\"))"
   ]
  },
  {
   "cell_type": "code",
   "execution_count": 16,
   "id": "250fad0b",
   "metadata": {},
   "outputs": [],
   "source": [
    "model.compile(loss=\"categorical_crossentropy\",optimizer=\"adam\",metrics=[\"accuracy\"])"
   ]
  },
  {
   "cell_type": "code",
   "execution_count": 18,
   "id": "ca2dcb1d",
   "metadata": {},
   "outputs": [
    {
     "name": "stdout",
     "output_type": "stream",
     "text": [
      "Epoch 1/25\n"
     ]
    },
    {
     "name": "stderr",
     "output_type": "stream",
     "text": [
      "C:\\Users\\hemaa\\AppData\\Local\\Temp\\ipykernel_8416\\3505885595.py:1: UserWarning: `Model.fit_generator` is deprecated and will be removed in a future version. Please use `Model.fit`, which supports generators.\n",
      "  model.fit_generator(x_train,steps_per_epoch=39,epochs=25,validation_data=x_test,validation_steps=10)\n"
     ]
    },
    {
     "name": "stdout",
     "output_type": "stream",
     "text": [
      "39/39 [==============================] - 5s 137ms/step - loss: 0.9161 - accuracy: 0.6434 - val_loss: 0.8567 - val_accuracy: 0.6500\n",
      "Epoch 2/25\n",
      "39/39 [==============================] - 8s 215ms/step - loss: 0.8285 - accuracy: 0.6683 - val_loss: 0.9969 - val_accuracy: 0.6125\n",
      "Epoch 3/25\n",
      "39/39 [==============================] - 8s 208ms/step - loss: 0.8354 - accuracy: 0.6755 - val_loss: 0.8455 - val_accuracy: 0.6938\n",
      "Epoch 4/25\n",
      "39/39 [==============================] - 8s 208ms/step - loss: 0.8230 - accuracy: 0.6787 - val_loss: 0.8277 - val_accuracy: 0.6781\n",
      "Epoch 5/25\n",
      "39/39 [==============================] - 8s 194ms/step - loss: 0.8788 - accuracy: 0.6619 - val_loss: 0.8437 - val_accuracy: 0.6406\n",
      "Epoch 6/25\n",
      "39/39 [==============================] - 8s 206ms/step - loss: 0.8427 - accuracy: 0.6731 - val_loss: 0.7094 - val_accuracy: 0.7469\n",
      "Epoch 7/25\n",
      "39/39 [==============================] - 8s 214ms/step - loss: 0.8250 - accuracy: 0.6851 - val_loss: 0.8392 - val_accuracy: 0.6687\n",
      "Epoch 8/25\n",
      "39/39 [==============================] - 8s 194ms/step - loss: 0.7689 - accuracy: 0.7204 - val_loss: 0.7629 - val_accuracy: 0.7063\n",
      "Epoch 9/25\n",
      "39/39 [==============================] - 7s 189ms/step - loss: 0.7635 - accuracy: 0.7131 - val_loss: 0.7898 - val_accuracy: 0.7156\n",
      "Epoch 10/25\n",
      "39/39 [==============================] - 7s 191ms/step - loss: 0.7669 - accuracy: 0.7019 - val_loss: 0.7198 - val_accuracy: 0.7156\n",
      "Epoch 11/25\n",
      "39/39 [==============================] - 8s 204ms/step - loss: 0.7692 - accuracy: 0.6883 - val_loss: 0.8260 - val_accuracy: 0.6844\n",
      "Epoch 12/25\n",
      "39/39 [==============================] - 8s 199ms/step - loss: 0.7730 - accuracy: 0.7147 - val_loss: 0.6729 - val_accuracy: 0.7625\n",
      "Epoch 13/25\n",
      "39/39 [==============================] - 8s 198ms/step - loss: 0.7617 - accuracy: 0.7035 - val_loss: 0.6185 - val_accuracy: 0.7656\n",
      "Epoch 14/25\n",
      "39/39 [==============================] - 8s 198ms/step - loss: 0.7353 - accuracy: 0.7228 - val_loss: 0.7483 - val_accuracy: 0.7250\n",
      "Epoch 15/25\n",
      "39/39 [==============================] - 8s 195ms/step - loss: 0.7042 - accuracy: 0.7260 - val_loss: 0.8447 - val_accuracy: 0.7063\n",
      "Epoch 16/25\n",
      "39/39 [==============================] - 8s 193ms/step - loss: 0.7023 - accuracy: 0.7196 - val_loss: 0.7355 - val_accuracy: 0.7312\n",
      "Epoch 17/25\n",
      "39/39 [==============================] - 7s 176ms/step - loss: 0.7123 - accuracy: 0.7268 - val_loss: 0.8012 - val_accuracy: 0.7250\n",
      "Epoch 18/25\n",
      "39/39 [==============================] - 7s 188ms/step - loss: 0.7108 - accuracy: 0.7221 - val_loss: 0.7179 - val_accuracy: 0.7312\n",
      "Epoch 19/25\n",
      "39/39 [==============================] - 7s 187ms/step - loss: 0.6664 - accuracy: 0.7388 - val_loss: 0.7420 - val_accuracy: 0.7344\n",
      "Epoch 20/25\n",
      "39/39 [==============================] - 8s 197ms/step - loss: 0.6812 - accuracy: 0.7333 - val_loss: 0.6425 - val_accuracy: 0.7594\n",
      "Epoch 21/25\n",
      "39/39 [==============================] - 8s 197ms/step - loss: 0.6726 - accuracy: 0.7500 - val_loss: 0.6309 - val_accuracy: 0.7437\n",
      "Epoch 22/25\n",
      "39/39 [==============================] - 7s 191ms/step - loss: 0.6809 - accuracy: 0.7276 - val_loss: 0.7080 - val_accuracy: 0.7625\n",
      "Epoch 23/25\n",
      "39/39 [==============================] - 8s 195ms/step - loss: 0.6507 - accuracy: 0.7518 - val_loss: 0.7698 - val_accuracy: 0.7000\n",
      "Epoch 24/25\n",
      "39/39 [==============================] - 7s 187ms/step - loss: 0.6688 - accuracy: 0.7404 - val_loss: 0.6220 - val_accuracy: 0.7656\n",
      "Epoch 25/25\n",
      "39/39 [==============================] - 8s 195ms/step - loss: 0.6318 - accuracy: 0.7628 - val_loss: 0.6735 - val_accuracy: 0.7469\n"
     ]
    },
    {
     "data": {
      "text/plain": [
       "<keras.callbacks.History at 0x178a1ad79d0>"
      ]
     },
     "execution_count": 18,
     "metadata": {},
     "output_type": "execute_result"
    }
   ],
   "source": [
    "model.fit_generator(x_train,steps_per_epoch=39,epochs=25,validation_data=x_test,validation_steps=10)"
   ]
  },
  {
   "cell_type": "code",
   "execution_count": 19,
   "id": "f8e2caf3",
   "metadata": {},
   "outputs": [],
   "source": [
    "model.save(\"Flowers.h5\")"
   ]
  },
  {
   "cell_type": "code",
   "execution_count": 20,
   "id": "4b3cfc68",
   "metadata": {},
   "outputs": [],
   "source": [
    "from tensorflow.keras.models import load_model"
   ]
  },
  {
   "cell_type": "code",
   "execution_count": 21,
   "id": "b041d7cc",
   "metadata": {},
   "outputs": [],
   "source": [
    "from tensorflow.keras.preprocessing import image"
   ]
  },
  {
   "cell_type": "code",
   "execution_count": 22,
   "id": "87ae9f82",
   "metadata": {},
   "outputs": [],
   "source": [
    "import numpy as np"
   ]
  },
  {
   "cell_type": "code",
   "execution_count": 23,
   "id": "4ed7373a",
   "metadata": {},
   "outputs": [],
   "source": [
    "model = load_model(\"Flowers.h5\")"
   ]
  },
  {
   "cell_type": "code",
   "execution_count": 26,
   "id": "50e05b06",
   "metadata": {},
   "outputs": [],
   "source": [
    "img = image.load_img(r\"C:/Flower-Dataset/testing/tulip/tulip.jpg\",target_size=(64,64))"
   ]
  },
  {
   "cell_type": "code",
   "execution_count": 27,
   "id": "e52eb154",
   "metadata": {},
   "outputs": [
    {
     "data": {
      "image/png": "[encoded data removed]",
      "text/plain": [
       "<PIL.Image.Image image mode=RGB size=64x64>"
      ]
     },
     "execution_count": 27,
     "metadata": {},
     "output_type": "execute_result"
    }
   ],
   "source": [
    "img"
   ]
  },
  {
   "cell_type": "code",
   "execution_count": 28,
   "id": "a912e68f",
   "metadata": {},
   "outputs": [
    {
     "data": {
      "text/plain": [
       "PIL.Image.Image"
      ]
     },
     "execution_count": 28,
     "metadata": {},
     "output_type": "execute_result"
    }
   ],
   "source": [
    "type(img)"
   ]
  },
  {
   "cell_type": "code",
   "execution_count": 29,
   "id": "25628852",
   "metadata": {},
   "outputs": [],
   "source": [
    "x = image.img_to_array(img)"
   ]
  },
  {
   "cell_type": "code",
   "execution_count": 30,
   "id": "aeea8583",
   "metadata": {},
   "outputs": [
    {
     "data": {
      "text/plain": [
       "array([[[1., 1., 1.],\n",
       "        [1., 1., 1.],\n",
       "        [1., 1., 1.],\n",
       "        ...,\n",
       "        [1., 1., 1.],\n",
       "        [1., 1., 1.],\n",
       "        [1., 1., 1.]],\n",
       "\n",
       "       [[1., 1., 1.],\n",
       "        [1., 1., 1.],\n",
       "        [1., 1., 1.],\n",
       "        ...,\n",
       "        [1., 1., 1.],\n",
       "        [1., 1., 1.],\n",
       "        [1., 1., 1.]],\n",
       "\n",
       "       [[1., 1., 1.],\n",
       "        [1., 1., 1.],\n",
       "        [1., 1., 1.],\n",
       "        ...,\n",
       "        [1., 1., 1.],\n",
       "        [1., 1., 1.],\n",
       "        [1., 1., 1.]],\n",
       "\n",
       "       ...,\n",
       "\n",
       "       [[1., 1., 1.],\n",
       "        [1., 1., 1.],\n",
       "        [1., 1., 1.],\n",
       "        ...,\n",
       "        [1., 1., 1.],\n",
       "        [1., 1., 1.],\n",
       "        [1., 1., 1.]],\n",
       "\n",
       "       [[1., 1., 1.],\n",
       "        [1., 1., 1.],\n",
       "        [1., 1., 1.],\n",
       "        ...,\n",
       "        [1., 1., 1.],\n",
       "        [1., 1., 1.],\n",
       "        [1., 1., 1.]],\n",
       "\n",
       "       [[1., 1., 1.],\n",
       "        [1., 1., 1.],\n",
       "        [1., 1., 1.],\n",
       "        ...,\n",
       "        [1., 1., 1.],\n",
       "        [1., 1., 1.],\n",
       "        [1., 1., 1.]]], dtype=float32)"
      ]
     },
     "execution_count": 30,
     "metadata": {},
     "output_type": "execute_result"
    }
   ],
   "source": [
    "x"
   ]
  },
  {
   "cell_type": "code",
   "execution_count": 31,
   "id": "38aab9d8",
   "metadata": {},
   "outputs": [
    {
     "data": {
      "text/plain": [
       "(64, 64, 3)"
      ]
     },
     "execution_count": 31,
     "metadata": {},
     "output_type": "execute_result"
    }
   ],
   "source": [
    "x.shape"
   ]
  },
  {
   "cell_type": "code",
   "execution_count": 32,
   "id": "93ff3a89",
   "metadata": {},
   "outputs": [],
   "source": [
    "x = np.expand_dims(x,axis=0)"
   ]
  },
  {
   "cell_type": "code",
   "execution_count": 33,
   "id": "b66d60dd",
   "metadata": {},
   "outputs": [
    {
     "data": {
      "text/plain": [
       "(1, 64, 64, 3)"
      ]
     },
     "execution_count": 33,
     "metadata": {},
     "output_type": "execute_result"
    }
   ],
   "source": [
    "x.shape"
   ]
  },
  {
   "cell_type": "code",
   "execution_count": 34,
   "id": "f6355cb8",
   "metadata": {},
   "outputs": [
    {
     "name": "stdout",
     "output_type": "stream",
     "text": [
      "1/1 [==============================] - 3s 3s/step\n"
     ]
    }
   ],
   "source": [
    "pred_prob = model.predict(x)"
   ]
  },
  {
   "cell_type": "code",
   "execution_count": 35,
   "id": "867bca61",
   "metadata": {},
   "outputs": [
    {
     "data": {
      "text/plain": [
       "array([[1., 0., 0., 0., 0.]], dtype=float32)"
      ]
     },
     "execution_count": 35,
     "metadata": {},
     "output_type": "execute_result"
    }
   ],
   "source": [
    "pred_prob"
   ]
  },
  {
   "cell_type": "code",
   "execution_count": 36,
   "id": "bef49c67",
   "metadata": {},
   "outputs": [],
   "source": [
    "class_name=[\"Daisy\",\"Dandelion\",\"Rose\",\"Sunflower\",\"Tulip\"]\n",
    "pred_id = pred_prob.argmax(axis = 1)[0]"
   ]
  },
  {
   "cell_type": "code",
   "execution_count": 37,
   "id": "a5a24636",
   "metadata": {},
   "outputs": [
    {
     "data": {
      "text/plain": [
       "0"
      ]
     },
     "execution_count": 37,
     "metadata": {},
     "output_type": "execute_result"
    }
   ],
   "source": [
    "pred_id"
   ]
  },
  {
   "cell_type": "code",
   "execution_count": 38,
   "id": "8757c2a0",
   "metadata": {},
   "outputs": [
    {
     "name": "stdout",
     "output_type": "stream",
     "text": [
      "Predicted Flower is  Daisy\n"
     ]
    }
   ],
   "source": [
    "print(\"Predicted Flower is \",str(class_name[pred_id]))"
   ]
  }
 ],
 "metadata": {
  "kernelspec": {
   "display_name": "Python 3.10.7 64-bit",
   "language": "python",
   "name": "python3"
  },
  "language_info": {
   "codemirror_mode": {
    "name": "ipython",
    "version": 3
   },
   "file_extension": ".py",
   "mimetype": "text/x-python",
   "name": "python",
   "nbconvert_exporter": "python",
   "pygments_lexer": "ipython3",
   "version": "3.10.7"
  },
  "vscode": {
   "interpreter": {
    "hash": "26de051ba29f2982a8de78e945f0abaf191376122a1563185a90213a26c5da77"
   }
  }
 },
 "nbformat": 4,
 "nbformat_minor": 5
}
